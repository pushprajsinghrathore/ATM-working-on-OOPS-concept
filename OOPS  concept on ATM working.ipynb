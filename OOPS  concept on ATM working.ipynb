{
 "cells": [
  {
   "cell_type": "code",
   "execution_count": 3,
   "id": "eaa7be3a",
   "metadata": {},
   "outputs": [
    {
     "name": "stdout",
     "output_type": "stream",
     "text": [
      "\n",
      "                    Welcome to SBI\n",
      "                    Hello ,how can i help you.\n",
      "                     1.Enter 1 to Create pin\n",
      "                     2.Enter 2 to deposit\n",
      "                     3.Enter 3 to withdraw\n",
      "                     4.Enter 4 to Check Balance\n",
      "                     5.Enter 5 to return to menu\n",
      "1\n",
      "Enter a pin for pinsetup7878\n",
      "pin set susscefully\n",
      "Enter your pin for deposite amount2000\n",
      "invild pin\n",
      "Enter a pin for withdraw money7878\n",
      "enter a amount withdrwa100\n"
     ]
    },
    {
     "ename": "AttributeError",
     "evalue": "'Atm' object has no attribute 'balance'",
     "output_type": "error",
     "traceback": [
      "\u001b[1;31m---------------------------------------------------------------------------\u001b[0m",
      "\u001b[1;31mAttributeError\u001b[0m                            Traceback (most recent call last)",
      "Input \u001b[1;32mIn [3]\u001b[0m, in \u001b[0;36m<module>\u001b[1;34m\u001b[0m\n\u001b[0;32m     57\u001b[0m sbi\u001b[38;5;241m=\u001b[39mAtm()\n\u001b[0;32m     58\u001b[0m sbi\u001b[38;5;241m.\u001b[39mdeposit()\n\u001b[1;32m---> 59\u001b[0m \u001b[43msbi\u001b[49m\u001b[38;5;241;43m.\u001b[39;49m\u001b[43mwithdraw\u001b[49m\u001b[43m(\u001b[49m\u001b[43m)\u001b[49m\n\u001b[0;32m     60\u001b[0m sbi\u001b[38;5;241m.\u001b[39mcheck_balance()\n",
      "Input \u001b[1;32mIn [3]\u001b[0m, in \u001b[0;36mAtm.withdraw\u001b[1;34m(self)\u001b[0m\n\u001b[0;32m     42\u001b[0m amount\u001b[38;5;241m=\u001b[39m\u001b[38;5;28mint\u001b[39m(\u001b[38;5;28minput\u001b[39m(\u001b[38;5;124m\"\u001b[39m\u001b[38;5;124menter a amount withdrwa\u001b[39m\u001b[38;5;124m\"\u001b[39m))\n\u001b[0;32m     43\u001b[0m \u001b[38;5;28;01mif\u001b[39;00m amount\u001b[38;5;241m>\u001b[39m\u001b[38;5;28mself\u001b[39m\u001b[38;5;241m.\u001b[39mblance:\n\u001b[1;32m---> 44\u001b[0m     \u001b[38;5;28mself\u001b[39m\u001b[38;5;241m.\u001b[39mbalance\u001b[38;5;241m=\u001b[39m\u001b[38;5;28;43mself\u001b[39;49m\u001b[38;5;241;43m.\u001b[39;49m\u001b[43mbalance\u001b[49m\u001b[38;5;241m-\u001b[39mamount\n\u001b[0;32m     45\u001b[0m     \u001b[38;5;28mprint\u001b[39m(\u001b[38;5;124m\"\u001b[39m\u001b[38;5;124msuccessful\u001b[39m\u001b[38;5;124m\"\u001b[39m)\n\u001b[0;32m     46\u001b[0m \u001b[38;5;28;01melse\u001b[39;00m:\n",
      "\u001b[1;31mAttributeError\u001b[0m: 'Atm' object has no attribute 'balance'"
     ]
    }
   ],
   "source": [
    "class Atm:\n",
    "    def __init__(self):\n",
    "        self.pin=\"\" # create varible inside method name was pin  is empty string\n",
    "        self.blance=0 # create varible inside method name was blance and value is 0\n",
    "        self.menu() # menu fucation call kiya \n",
    "    def menu(self):\n",
    "        # ya pr menu funcation ke shari method he jis ke ander ka code excute ho ga jab hum usi call kre ge\n",
    "        user_input=input('''\n",
    "                    Welcome to SBI\n",
    "                    Hello ,how can i help you.\n",
    "                     1.Enter 1 to Create pin\n",
    "                     2.Enter 2 to deposit\n",
    "                     3.Enter 3 to withdraw\n",
    "                     4.Enter 4 to Check Balance\n",
    "                     5.Enter 5 to return to menu\n",
    "''')\n",
    "        if user_input==\"1\":\n",
    "            self.create_pin()\n",
    "        elif user_input==\"2\":\n",
    "            self.deposit()\n",
    "        elif user_input==\"3\":\n",
    "            self.withdraw()\n",
    "        elif user_input==\"4\":\n",
    "            self.chek_balance()\n",
    "        else:\n",
    "            print(\"exite\")\n",
    "    \n",
    "    def create_pin(self):\n",
    "        self.pin=input(\"Enter a pin for pinsetup\")\n",
    "        print(\"pin set susscefully\")\n",
    "    def deposit(self):\n",
    "        temp=input(\"Enter your pin for deposite amount\")\n",
    "        if temp==self.pin:\n",
    "            amount=int(input(\"enter the amount for deposite\"))\n",
    "            self.balance=self.blance+amount\n",
    "            print(\"Depostie succesffuly\")\n",
    "        else:\n",
    "            print(\"invild pin\")\n",
    "    def withdraw(self):\n",
    "        temp=input(\"Enter a pin for withdraw money\")\n",
    "        if temp==self.pin:\n",
    "            amount=int(input(\"enter a amount withdrwa\"))\n",
    "            if amount>self.blance:\n",
    "                self.balance=self.balance-amount\n",
    "                print(\"successful\")\n",
    "            else:\n",
    "                print(\"insufficient Funds\")\n",
    "        else:\n",
    "            print(\"invaild pin\")\n",
    "    def check_balance(self):\n",
    "        temp=input(\"enetr your pin check Balance\")\n",
    "        if temp==self.pin:\n",
    "            print(self.balance)\n",
    "            print(\"Thank you to visit SBI\")\n",
    "        else:\n",
    "            print(\"invaildpin\")\n",
    "sbi=Atm()\n",
    "sbi.deposit()\n",
    "sbi.withdraw()\n",
    "sbi.check_balance()\n",
    "\n",
    "        \n",
    "        \n",
    "        \n",
    "            \n",
    "            \n",
    "        "
   ]
  },
  {
   "cell_type": "code",
   "execution_count": null,
   "id": "5ccd1cf7",
   "metadata": {},
   "outputs": [],
   "source": []
  }
 ],
 "metadata": {
  "kernelspec": {
   "display_name": "Python 3 (ipykernel)",
   "language": "python",
   "name": "python3"
  },
  "language_info": {
   "codemirror_mode": {
    "name": "ipython",
    "version": 3
   },
   "file_extension": ".py",
   "mimetype": "text/x-python",
   "name": "python",
   "nbconvert_exporter": "python",
   "pygments_lexer": "ipython3",
   "version": "3.9.7"
  }
 },
 "nbformat": 4,
 "nbformat_minor": 5
}
