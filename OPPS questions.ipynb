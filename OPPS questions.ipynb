{
 "cells": [
  {
   "cell_type": "markdown",
   "id": "0a0a284a",
   "metadata": {},
   "source": [
    "Python: Import built-in array module and display the namespace of the said module"
   ]
  },
  {
   "cell_type": "code",
   "execution_count": 1,
   "id": "eb9f936b",
   "metadata": {},
   "outputs": [
    {
     "name": "stdout",
     "output_type": "stream",
     "text": [
      "__name__\n",
      "__doc__\n",
      "__package__\n",
      "__loader__\n",
      "__spec__\n",
      "_array_reconstructor\n",
      "ArrayType\n",
      "array\n",
      "typecodes\n"
     ]
    }
   ],
   "source": [
    "import array\n",
    "for name in array.__dict__:\n",
    "    print(name)"
   ]
  },
  {
   "cell_type": "markdown",
   "id": "22e4c2cb",
   "metadata": {},
   "source": [
    "Write a Python program to create a class and display the namespace of the said class."
   ]
  },
  {
   "cell_type": "code",
   "execution_count": 3,
   "id": "ed05b940",
   "metadata": {},
   "outputs": [
    {
     "name": "stdout",
     "output_type": "stream",
     "text": [
      "{'__module__': '__main__', '__dict__': <attribute '__dict__' of 'Emp' objects>, '__weakref__': <attribute '__weakref__' of 'Emp' objects>, '__doc__': None}\n"
     ]
    }
   ],
   "source": [
    "class Emp:\n",
    "    pass\n",
    "print(Emp.__dict__)"
   ]
  },
  {
   "cell_type": "markdown",
   "id": "027fe95d",
   "metadata": {},
   "source": [
    "4. 'builtins' module provides direct access to all 'built-in' identifiers of Python. Write a python program which import the abs() function using the builtins module, display the documentation of abs() function and find the absolute value of -155"
   ]
  },
  {
   "cell_type": "markdown",
   "id": "4c1fbb70",
   "metadata": {},
   "source": [
    "'builtins' module provides direct access to all 'built-in' identifiers of Python.\n",
    "Write a python program which import the abs() function using the builtins module, display the documentation of abs() function and find the absolute value of -155."
   ]
  },
  {
   "cell_type": "code",
   "execution_count": 4,
   "id": "575aeb52",
   "metadata": {},
   "outputs": [
    {
     "name": "stdout",
     "output_type": "stream",
     "text": [
      "Help on built-in function abs in module builtins:\n",
      "\n",
      "abs(x, /)\n",
      "    Return the absolute value of the argument.\n",
      "\n",
      "155\n"
     ]
    }
   ],
   "source": [
    "import builtins\n",
    "help(builtins.abs)\n",
    "print(builtins.abs(-155))"
   ]
  },
  {
   "cell_type": "markdown",
   "id": "faed2457",
   "metadata": {},
   "source": [
    "Write a Python program to create a Vehicle class with max_speed and mileage instance attributes."
   ]
  },
  {
   "cell_type": "code",
   "execution_count": 22,
   "id": "35fd4ff6",
   "metadata": {},
   "outputs": [
    {
     "name": "stdout",
     "output_type": "stream",
     "text": [
      "100  speed of Vehicel\n",
      "30  Milage of Vehicel\n"
     ]
    }
   ],
   "source": [
    "class Vehicel:\n",
    "    def speed(self,x):\n",
    "        self.x=x\n",
    "    def milage(self,y):\n",
    "        self.y=y\n",
    "    def show(self):\n",
    "        print(self.x)\n",
    "        print(self.y)\n",
    "v=Vehicel()\n",
    "v.speed(\"100  speed of Vehicel\")\n",
    "v.milage(\"30  Milage of Vehicel\")\n",
    "v.show()"
   ]
  },
  {
   "cell_type": "code",
   "execution_count": 26,
   "id": "bb30bc70",
   "metadata": {},
   "outputs": [
    {
     "name": "stdout",
     "output_type": "stream",
     "text": [
      "400\n",
      "60\n"
     ]
    }
   ],
   "source": [
    "class Car:\n",
    "    def speed(self,x):\n",
    "        self.x=x\n",
    "        print(self.x)\n",
    "    def milage(self,y):\n",
    "        self.y=y\n",
    "        print(self.y)\n",
    "c=Car()\n",
    "c.speed(400)\n",
    "c.milage(60)"
   ]
  },
  {
   "cell_type": "code",
   "execution_count": 28,
   "id": "48bc4379",
   "metadata": {},
   "outputs": [
    {
     "name": "stdout",
     "output_type": "stream",
     "text": [
      "100\n",
      "30\n"
     ]
    }
   ],
   "source": [
    "class Bus:\n",
    "    def __init__(self,speed,milage): \n",
    "        # init is constructor\n",
    "        self.speed=speed\n",
    "        print(self.speed)\n",
    "        self.milage=milage\n",
    "        print(self.milage)\n",
    "b=Bus(100,30)"
   ]
  },
  {
   "cell_type": "markdown",
   "id": "0f066f95",
   "metadata": {},
   "source": [
    " Create a Vehicle class without any variables and methods"
   ]
  },
  {
   "cell_type": "code",
   "execution_count": 29,
   "id": "9b7608b0",
   "metadata": {},
   "outputs": [],
   "source": [
    "class Vehicle:\n",
    "    pass"
   ]
  },
  {
   "cell_type": "code",
   "execution_count": 38,
   "id": "59d4a204",
   "metadata": {},
   "outputs": [
    {
     "name": "stdout",
     "output_type": "stream",
     "text": [
      "BMW\n",
      "200\n",
      "60\n",
      "\n"
     ]
    }
   ],
   "source": [
    "class Vehicle:\n",
    "    def __init__(self,Name,speed,milage):\n",
    "        self.name=\"BMW\"\n",
    "        print(self.name)\n",
    "        self.speed=speed\n",
    "        print(self.speed)\n",
    "        self.milage=milage\n",
    "        print(self.milage)\n",
    "v=Vehicle(\"BMW\",200,60)"
   ]
  },
  {
   "cell_type": "markdown",
   "id": "07241529",
   "metadata": {},
   "source": [
    "OOP Exercise 3: Create a child class Bus that will inherit all of the variables and methods of the Vehicle class"
   ]
  },
  {
   "cell_type": "code",
   "execution_count": 49,
   "id": "4eca2b82",
   "metadata": {},
   "outputs": [
    {
     "name": "stdout",
     "output_type": "stream",
     "text": [
      "TATA\n",
      "180\n",
      "12\n",
      "bus information\n"
     ]
    }
   ],
   "source": [
    "class Vehicle:\n",
    "    def __init__(self,name,speed,milage):\n",
    "        self.name=name\n",
    "        print(self.name)\n",
    "        self.speed=speed\n",
    "        print(self.speed)\n",
    "        self.milage=milage\n",
    "        print(self.milage)\n",
    "class Bus(Vehicle):\n",
    "    def add(self):\n",
    "        print(\"bus information\")\n",
    "b=Bus(\"TATA\",180,12)\n",
    "b.add()"
   ]
  },
  {
   "cell_type": "code",
   "execution_count": 50,
   "id": "d4d0ca69",
   "metadata": {},
   "outputs": [
    {
     "name": "stdout",
     "output_type": "stream",
     "text": [
      "TATA\n",
      "180\n",
      "12\n"
     ]
    }
   ],
   "source": [
    "class Vehicle:\n",
    "    def __init__(self,name,speed,milage):\n",
    "        self.name=name\n",
    "        print(self.name)\n",
    "        self.speed=speed\n",
    "        print(self.speed)\n",
    "        self.milage=milage\n",
    "        print(self.milage)\n",
    "class Bus(Vehicle):\n",
    "    pass\n",
    "b=Bus(\"TATA\",180,12)\n"
   ]
  },
  {
   "cell_type": "markdown",
   "id": "98bb4aba",
   "metadata": {},
   "source": [
    "Create a Bus class that inherits from the Vehicle class. Give the capacity argument of Bus.seating_capacity() a default value of 50."
   ]
  },
  {
   "cell_type": "code",
   "execution_count": 66,
   "id": "89f18d12",
   "metadata": {},
   "outputs": [
    {
     "name": "stdout",
     "output_type": "stream",
     "text": [
      "TATA\n",
      "200\n",
      "10\n",
      " 50 setting capcity\n"
     ]
    }
   ],
   "source": [
    "class Vehicle:\n",
    "    def __init__(self,name,speed,milage):\n",
    "        self.name=name\n",
    "        print(self.name)\n",
    "        self.speed=speed\n",
    "        print(self.speed)\n",
    "        self.milage=milage\n",
    "        print(self.milage)\n",
    "    \n",
    "    def s_capcity(self,capcity):\n",
    "        self.capcity=capcity\n",
    "        print(self.capcity)\n",
    "class Bus(Vehicle):\n",
    "    pass\n",
    "b=Bus(\"TATA\",200,10)\n",
    "b.s_capcity(\" 50 setting capcity\")\n",
    "\n",
    "    \n",
    "        \n",
    "        "
   ]
  },
  {
   "cell_type": "code",
   "execution_count": 78,
   "id": "a0c0c736",
   "metadata": {},
   "outputs": [
    {
     "name": "stdout",
     "output_type": "stream",
     "text": [
      "TATA BUS\n",
      "180\n",
      "20\n"
     ]
    },
    {
     "data": {
      "text/plain": [
       "' The capcity of a TATA BUS is 50 passenger'"
      ]
     },
     "execution_count": 78,
     "metadata": {},
     "output_type": "execute_result"
    }
   ],
   "source": [
    "class Vehicel:\n",
    "    \n",
    "    def __init__(self,name,speed,milage):\n",
    "        self.name=name\n",
    "        print(self.name)\n",
    "        self.speed=speed\n",
    "        print(self.speed)\n",
    "        self.milage=milage\n",
    "        print(self.milage)\n",
    "    def s_capcity(self,capcity):\n",
    "        return f\" The capcity of a {self.name} is {capcity} passenger\"\n",
    "class Bus(Vehicel):\n",
    "    def s_capcity(self,capcity=50):\n",
    "        return super().s_capcity(capcity=50)\n",
    "b=Bus(\"TATA BUS\",180,20)\n",
    "b.s_capcity()\n",
    "    "
   ]
  },
  {
   "cell_type": "code",
   "execution_count": 81,
   "id": "4b34caf7",
   "metadata": {},
   "outputs": [
    {
     "name": "stdout",
     "output_type": "stream",
     "text": [
      "TATA BUS\n",
      "180\n",
      "20\n",
      "50\n"
     ]
    },
    {
     "data": {
      "text/plain": [
       "' The capcity of a TATA BUS is 50 passenger'"
      ]
     },
     "execution_count": 81,
     "metadata": {},
     "output_type": "execute_result"
    }
   ],
   "source": [
    "class Vehicel:\n",
    "    \n",
    "    def __init__(self,name,speed,milage,capcity):\n",
    "        self.name=name\n",
    "        print(self.name)\n",
    "        self.speed=speed\n",
    "        print(self.speed)\n",
    "        self.milage=milage\n",
    "        print(self.milage)\n",
    "        self.capcity=capcity\n",
    "        print(self.capcity)\n",
    "        \n",
    "    def s_capcity(self,capcity):\n",
    "        return f\" The capcity of a {self.name} is {capcity} passenger\"\n",
    "class Bus(Vehicel):\n",
    "    pass\n",
    "b=Bus(\"TATA BUS\",180,20,50)\n",
    "b.s_capcity(50)\n",
    "    "
   ]
  },
  {
   "cell_type": "code",
   "execution_count": null,
   "id": "abd5ac7d",
   "metadata": {},
   "outputs": [],
   "source": []
  }
 ],
 "metadata": {
  "kernelspec": {
   "display_name": "Python 3 (ipykernel)",
   "language": "python",
   "name": "python3"
  },
  "language_info": {
   "codemirror_mode": {
    "name": "ipython",
    "version": 3
   },
   "file_extension": ".py",
   "mimetype": "text/x-python",
   "name": "python",
   "nbconvert_exporter": "python",
   "pygments_lexer": "ipython3",
   "version": "3.9.7"
  }
 },
 "nbformat": 4,
 "nbformat_minor": 5
}
