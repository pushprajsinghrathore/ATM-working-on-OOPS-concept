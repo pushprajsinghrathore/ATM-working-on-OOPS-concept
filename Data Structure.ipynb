{
 "cells": [
  {
   "cell_type": "markdown",
   "id": "5353f67a",
   "metadata": {},
   "source": [
    "Time Complaxity:- Kisi bhi algoritham ke output ko  genrate hone me jo time lage ga usi time  ko Time complex city bolte he\n",
    "Tme complexity se hume ye pata chal jai ga ki algoritham kitna fast run krta he \n",
    "Timecomplaxity ko  algoritham ke bana ne se pahle aur Run krne se phele calculate ki jati he\n",
    "\n"
   ]
  },
  {
   "cell_type": "markdown",
   "id": "ac32ac35",
   "metadata": {},
   "source": [
    "Data Structures are a way of organizing data so that it can be accessed more efficiently depending upon the situation.\n",
    "\n",
    "The basic Python data structures in Python include list, set, tuples, and dictionary. Each of the data structures is unique in its own way."
   ]
  },
  {
   "cell_type": "code",
   "execution_count": null,
   "id": "e55f334e",
   "metadata": {},
   "outputs": [],
   "source": [
    "Time complaxity Uint\n",
    "Big O\n",
    "Omega\n",
    "Theta"
   ]
  },
  {
   "cell_type": "code",
   "execution_count": null,
   "id": "6bd4952d",
   "metadata": {},
   "outputs": [],
   "source": [
    "O(n) # n can be size of array ,input string,length of string"
   ]
  },
  {
   "cell_type": "raw",
   "id": "75d1e579",
   "metadata": {},
   "source": [
    "for i in range(3):\n",
    "# jitane jayada loop hogi utani time coplax city jyada aye gi\n",
    "# calculate a how many loops is use algoritham use this key\n",
    "O(n^k)"
   ]
  },
  {
   "cell_type": "markdown",
   "id": "1dd27677",
   "metadata": {},
   "source": [
    "Order Of Magnitude"
   ]
  },
  {
   "cell_type": "code",
   "execution_count": 7,
   "id": "d6c87f51",
   "metadata": {},
   "outputs": [
    {
     "name": "stdout",
     "output_type": "stream",
     "text": [
      "0\n",
      "1\n",
      "2\n",
      "3\n",
      "4\n",
      "5\n",
      "6\n"
     ]
    }
   ],
   "source": [
    "n=10\n",
    "for i in range(n-3):\n",
    "    print(i)"
   ]
  },
  {
   "cell_type": "markdown",
   "id": "0b4569a7",
   "metadata": {},
   "source": [
    "stack  is work on LIFO(Last IN first OUT)"
   ]
  },
  {
   "cell_type": "markdown",
   "id": "980a18c7",
   "metadata": {},
   "source": [
    "Stack Opretions\n",
    "Push :- add a value\n",
    "pop: delet value\n",
    "Display :- print Value"
   ]
  },
  {
   "cell_type": "markdown",
   "id": "fcdd5d46",
   "metadata": {},
   "source": [
    "30 first 30 remove hoga  \n",
    "20\n",
    "10"
   ]
  },
  {
   "cell_type": "markdown",
   "id": "38af891e",
   "metadata": {},
   "source": [
    "stack using python list"
   ]
  },
  {
   "cell_type": "code",
   "execution_count": 4,
   "id": "51cff07d",
   "metadata": {},
   "outputs": [
    {
     "data": {
      "text/plain": [
       "10"
      ]
     },
     "execution_count": 4,
     "metadata": {},
     "output_type": "execute_result"
    }
   ],
   "source": [
    "s=[]\n",
    "s.append(10)\n",
    "s.pop()"
   ]
  },
  {
   "cell_type": "code",
   "execution_count": 6,
   "id": "d04feac7",
   "metadata": {},
   "outputs": [
    {
     "name": "stdout",
     "output_type": "stream",
     "text": [
      "[10]\n"
     ]
    }
   ],
   "source": [
    "stack=[]\n",
    "stack.append(10)\n",
    "print(stack)"
   ]
  },
  {
   "cell_type": "code",
   "execution_count": 7,
   "id": "f15d0134",
   "metadata": {},
   "outputs": [
    {
     "ename": "TypeError",
     "evalue": "list.append() takes exactly one argument (5 given)",
     "output_type": "error",
     "traceback": [
      "\u001b[1;31m---------------------------------------------------------------------------\u001b[0m",
      "\u001b[1;31mTypeError\u001b[0m                                 Traceback (most recent call last)",
      "Input \u001b[1;32mIn [7]\u001b[0m, in \u001b[0;36m<module>\u001b[1;34m\u001b[0m\n\u001b[0;32m      1\u001b[0m s\u001b[38;5;241m=\u001b[39m[]\n\u001b[1;32m----> 2\u001b[0m \u001b[43ms\u001b[49m\u001b[38;5;241;43m.\u001b[39;49m\u001b[43mappend\u001b[49m\u001b[43m(\u001b[49m\u001b[38;5;241;43m10\u001b[39;49m\u001b[43m,\u001b[49m\u001b[38;5;241;43m20\u001b[39;49m\u001b[43m,\u001b[49m\u001b[38;5;241;43m30\u001b[39;49m\u001b[43m,\u001b[49m\u001b[38;5;241;43m40\u001b[39;49m\u001b[43m,\u001b[49m\u001b[38;5;241;43m50\u001b[39;49m\u001b[43m)\u001b[49m\n\u001b[0;32m      3\u001b[0m \u001b[38;5;28mprint\u001b[39m(s)\n",
      "\u001b[1;31mTypeError\u001b[0m: list.append() takes exactly one argument (5 given)"
     ]
    }
   ],
   "source": [
    "s=[]\n",
    "s.append(10,20,30,40,50)\n",
    "print(s)\n",
    "# this type of error show when we add multiple value in append\n",
    "#list.append() takes exactly one argument (5 given)"
   ]
  },
  {
   "cell_type": "code",
   "execution_count": 16,
   "id": "fa3e119a",
   "metadata": {},
   "outputs": [
    {
     "name": "stdout",
     "output_type": "stream",
     "text": [
      "[10, 20, 30, 40]\n"
     ]
    }
   ],
   "source": [
    "s=[]\n",
    "s.append(10)\n",
    "s.append(20)\n",
    "s.append(30)\n",
    "s.append(40)\n",
    "print(s)"
   ]
  },
  {
   "cell_type": "code",
   "execution_count": 17,
   "id": "8d269bcf",
   "metadata": {},
   "outputs": [
    {
     "name": "stdout",
     "output_type": "stream",
     "text": [
      "40\n"
     ]
    }
   ],
   "source": [
    "# with help of  pop we remove number in list\n",
    "\n",
    "print(s.pop())"
   ]
  },
  {
   "cell_type": "code",
   "execution_count": 18,
   "id": "047f645f",
   "metadata": {},
   "outputs": [
    {
     "name": "stdout",
     "output_type": "stream",
     "text": [
      "[10, 20, 30, 70]\n"
     ]
    }
   ],
   "source": [
    "s.append(70)\n",
    "print(s)\n",
    "# we cant add value with help of push we can use append"
   ]
  },
  {
   "cell_type": "code",
   "execution_count": null,
   "id": "30606efb",
   "metadata": {},
   "outputs": [],
   "source": [
    "# with help of indexing we can remove a value"
   ]
  },
  {
   "cell_type": "code",
   "execution_count": 22,
   "id": "d750d4e4",
   "metadata": {},
   "outputs": [
    {
     "name": "stdout",
     "output_type": "stream",
     "text": [
      "70\n"
     ]
    }
   ],
   "source": [
    "top=s[-1]\n",
    "print(top)"
   ]
  },
  {
   "cell_type": "code",
   "execution_count": 23,
   "id": "66169216",
   "metadata": {},
   "outputs": [
    {
     "name": "stdout",
     "output_type": "stream",
     "text": [
      "70\n"
     ]
    }
   ],
   "source": [
    "t=s[-1]\n",
    "print(t)"
   ]
  },
  {
   "cell_type": "markdown",
   "id": "dd727131",
   "metadata": {},
   "source": [
    "stack Using in python classes"
   ]
  },
  {
   "cell_type": "code",
   "execution_count": 40,
   "id": "129a5b03",
   "metadata": {},
   "outputs": [],
   "source": [
    "class Stack:\n",
    "    def __init__(self):\n",
    "        self.data=[]\n",
    "        self.size=0\n",
    "    def __len__(self):\n",
    "        return self.size\n",
    "    def is_empty(self):\n",
    "        return self.size==0\n",
    "    def push(self,value):\n",
    "        self.data.append(value)\n",
    "        self.size+=1\n",
    "    def top(self):\n",
    "        if self.is_empty():\n",
    "            return \"stack is empty \"\n",
    "        return self.data[-1]\n",
    "    def pop(self):\n",
    "        if self.is_empty():\n",
    "            return \"stack is empty\"\n",
    "        r= self.data.pop()\n",
    "        return r\n",
    "    def display(self):\n",
    "        return self .data"
   ]
  },
  {
   "cell_type": "code",
   "execution_count": 43,
   "id": "157dd26f",
   "metadata": {},
   "outputs": [
    {
     "data": {
      "text/plain": [
       "40"
      ]
     },
     "execution_count": 43,
     "metadata": {},
     "output_type": "execute_result"
    }
   ],
   "source": [
    "s=Stack()\n",
    "s.display()\n",
    "s.push(20)\n",
    "s.push(30)\n",
    "s.push(40)\n",
    "s.display()\n",
    "s.top()"
   ]
  },
  {
   "cell_type": "code",
   "execution_count": 44,
   "id": "1bb26e51",
   "metadata": {},
   "outputs": [
    {
     "data": {
      "text/plain": [
       "[20, 30, 40]"
      ]
     },
     "execution_count": 44,
     "metadata": {},
     "output_type": "execute_result"
    }
   ],
   "source": [
    "s.display()"
   ]
  },
  {
   "cell_type": "code",
   "execution_count": 47,
   "id": "fd7233a6",
   "metadata": {},
   "outputs": [
    {
     "data": {
      "text/plain": [
       "False"
      ]
     },
     "execution_count": 47,
     "metadata": {},
     "output_type": "execute_result"
    }
   ],
   "source": [
    "s.__len__()\n",
    "s.is_empty()"
   ]
  },
  {
   "cell_type": "code",
   "execution_count": null,
   "id": "0708075a",
   "metadata": {},
   "outputs": [],
   "source": []
  }
 ],
 "metadata": {
  "kernelspec": {
   "display_name": "Python 3 (ipykernel)",
   "language": "python",
   "name": "python3"
  },
  "language_info": {
   "codemirror_mode": {
    "name": "ipython",
    "version": 3
   },
   "file_extension": ".py",
   "mimetype": "text/x-python",
   "name": "python",
   "nbconvert_exporter": "python",
   "pygments_lexer": "ipython3",
   "version": "3.9.7"
  }
 },
 "nbformat": 4,
 "nbformat_minor": 5
}
