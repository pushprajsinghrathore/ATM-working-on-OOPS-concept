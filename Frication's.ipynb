{
 "cells": [
  {
   "cell_type": "code",
   "execution_count": null,
   "id": "188520e3",
   "metadata": {},
   "outputs": [],
   "source": []
  },
  {
   "cell_type": "code",
   "execution_count": 6,
   "id": "5901dc39",
   "metadata": {},
   "outputs": [
    {
     "name": "stdout",
     "output_type": "stream",
     "text": [
      "<__main__.Factor object at 0x000002E02F506B80>\n"
     ]
    }
   ],
   "source": [
    "class Factor:\n",
    "    def __init__(self,n,d):\n",
    "        self.num=n\n",
    "        self.den=d\n",
    "x=Factor(4,5)\n"
   ]
  },
  {
   "cell_type": "code",
   "execution_count": 8,
   "id": "efe53176",
   "metadata": {},
   "outputs": [
    {
     "name": "stdout",
     "output_type": "stream",
     "text": [
      "hello\n"
     ]
    }
   ],
   "source": [
    "class Factor:\n",
    "    def __init__(self,n,d):\n",
    "        self.num=n\n",
    "        self.den=d\n",
    "    def __str__(self):\n",
    "        return \"hello\"\n",
    "x=Factor(4,5)\n",
    "print(x)\n",
    "\n",
    "# __str__ magic key word he jis me hum class ke obect ko \n",
    "# print me daal kr us ko print krwa skte he\n"
   ]
  },
  {
   "cell_type": "code",
   "execution_count": 42,
   "id": "49983ba4",
   "metadata": {},
   "outputs": [
    {
     "name": "stdout",
     "output_type": "stream",
     "text": [
      "39/30\n",
      "9/30\n",
      "12/30\n"
     ]
    }
   ],
   "source": [
    "class Factor:\n",
    "    def __init__(self,n,d):\n",
    "        self.num=n\n",
    "        self.den=d\n",
    "    def __str__(self):\n",
    "        return \"{}/{}\".format(self.num,self.den)\n",
    "    def __add__(self,other):\n",
    "        temp_num=self.num*other.den+other.num*self.den\n",
    "        temp_den=self.den*other.den\n",
    "        return\"{}/{}\".format(temp_num,temp_den)\n",
    "    def __sub__(self,other):\n",
    "        temp_num=self.num*other.den-other.num*self.den\n",
    "        temp_den=self.den*other.den\n",
    "        return\"{}/{}\".format(temp_num,temp_den)\n",
    "    def __mul__(self,other):\n",
    "            temp_num=self.num*other.num\n",
    "            temp_den=self.den*other.den\n",
    "            return\"{}/{}\".format(temp_num,temp_den)\n",
    "x=Factor(4,5)\n",
    "y=Factor(3,6)\n",
    "print(x+y)\n",
    "print(x-y)\n",
    "print(x*y)\n"
   ]
  },
  {
   "cell_type": "code",
   "execution_count": 13,
   "id": "84f31f4c",
   "metadata": {},
   "outputs": [
    {
     "ename": "TypeError",
     "evalue": "unsupported operand type(s) for +: 'set' and 'set'",
     "output_type": "error",
     "traceback": [
      "\u001b[1;31m---------------------------------------------------------------------------\u001b[0m",
      "\u001b[1;31mTypeError\u001b[0m                                 Traceback (most recent call last)",
      "Input \u001b[1;32mIn [13]\u001b[0m, in \u001b[0;36m<module>\u001b[1;34m\u001b[0m\n\u001b[0;32m      1\u001b[0m x\u001b[38;5;241m=\u001b[39m{\u001b[38;5;241m2\u001b[39m,\u001b[38;5;241m4\u001b[39m,\u001b[38;5;241m5\u001b[39m}\n\u001b[0;32m      2\u001b[0m y\u001b[38;5;241m=\u001b[39m{\u001b[38;5;241m2\u001b[39m,\u001b[38;5;241m6\u001b[39m,\u001b[38;5;241m8\u001b[39m}\n\u001b[1;32m----> 3\u001b[0m \u001b[43mx\u001b[49m\u001b[38;5;241;43m+\u001b[39;49m\u001b[43my\u001b[49m\n",
      "\u001b[1;31mTypeError\u001b[0m: unsupported operand type(s) for +: 'set' and 'set'"
     ]
    }
   ],
   "source": [
    "x={2,4,5}\n",
    "y={2,6,8}\n",
    "x+y\n"
   ]
  },
  {
   "cell_type": "code",
   "execution_count": null,
   "id": "b36f58a1",
   "metadata": {},
   "outputs": [],
   "source": []
  }
 ],
 "metadata": {
  "kernelspec": {
   "display_name": "Python 3 (ipykernel)",
   "language": "python",
   "name": "python3"
  },
  "language_info": {
   "codemirror_mode": {
    "name": "ipython",
    "version": 3
   },
   "file_extension": ".py",
   "mimetype": "text/x-python",
   "name": "python",
   "nbconvert_exporter": "python",
   "pygments_lexer": "ipython3",
   "version": "3.9.7"
  }
 },
 "nbformat": 4,
 "nbformat_minor": 5
}
